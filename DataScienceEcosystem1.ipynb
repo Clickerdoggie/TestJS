{
 "cells": [
  {
   "cell_type": "markdown",
   "id": "3dd6f866",
   "metadata": {},
   "source": [
    "# Data Science Tools and Ecosystem"
   ]
  },
  {
   "cell_type": "code",
   "execution_count": 1,
   "id": "0a0b1cd5",
   "metadata": {},
   "outputs": [
    {
     "name": "stdout",
     "output_type": "stream",
     "text": [
      "In this notebook, Data Science Tools and Ecosystem are summarized.\n"
     ]
    }
   ],
   "source": [
    "print (\"In this notebook, Data Science Tools and Ecosystem are summarized.\")"
   ]
  },
  {
   "cell_type": "code",
   "execution_count": 2,
   "id": "88f9f028",
   "metadata": {},
   "outputs": [
    {
     "name": "stdout",
     "output_type": "stream",
     "text": [
      "Some of the popular languages that Data Scientists use are:\n",
      "1. C++\n",
      "2. Go\n",
      "3. Java\n",
      "4. Python\n"
     ]
    }
   ],
   "source": [
    "print (\"Some of the popular languages that Data Scientists use are:\")\n",
    "print (\"1. C++\")\n",
    "print (\"2. Go\")\n",
    "print (\"3. Java\")\n",
    "print (\"4. Python\")"
   ]
  },
  {
   "cell_type": "code",
   "execution_count": 3,
   "id": "04361f8d",
   "metadata": {},
   "outputs": [
    {
     "name": "stdout",
     "output_type": "stream",
     "text": [
      "Some of the commonly used libraries used by Data Scientists include:\n",
      "1.Numpy \n",
      "2. Pandas\n",
      "3. Tensor Flow \n",
      "Big DL\n",
      "Seaborn\n"
     ]
    }
   ],
   "source": [
    "print (\"Some of the commonly used libraries used by Data Scientists include:\")\n",
    "print (\"1.Numpy \")\n",
    "print (\"2. Pandas\")\n",
    "print (\"3. Tensor Flow \")\n",
    "print (\"Big DL\")\n",
    "print (\"Seaborn\")"
   ]
  },
  {
   "cell_type": "markdown",
   "id": "e7c1e2e8",
   "metadata": {},
   "source": [
    "| Data Science Tools|\n",
    "| ---------------- |\n",
    "| Jupyter NoteBook |\n",
    "| Rstudio          |\n",
    "| Anaconda         |\n",
    "| Spyder           |"
   ]
  },
  {
   "cell_type": "markdown",
   "id": "204fc05a",
   "metadata": {},
   "source": [
    "### Below are a few examples of evaluating arithmetic expressions in Python"
   ]
  },
  {
   "cell_type": "code",
   "execution_count": 4,
   "id": "9005ce53",
   "metadata": {},
   "outputs": [
    {
     "data": {
      "text/plain": [
       "17"
      ]
     },
     "execution_count": 4,
     "metadata": {},
     "output_type": "execute_result"
    }
   ],
   "source": [
    "(3*4)+5\n",
    "# This a simple arithmetic expression to mutiply then add integersS"
   ]
  },
  {
   "cell_type": "code",
   "execution_count": 5,
   "id": "9dea491e",
   "metadata": {},
   "outputs": [
    {
     "data": {
      "text/plain": [
       "3.3333333333333335"
      ]
     },
     "execution_count": 5,
     "metadata": {},
     "output_type": "execute_result"
    }
   ],
   "source": [
    "# This will convert 200 minutes to hours by diving by 60\n",
    "\n",
    "minutes = 200\n",
    "hours = minutes / 60 \n",
    "hours"
   ]
  },
  {
   "cell_type": "markdown",
   "id": "d5e43079",
   "metadata": {},
   "source": [
    "**Objectives:**\n",
    "*  List popular languages for Data Science\n",
    "* Evaluating arithmetic expressions in Python\n",
    "* List development environment"
   ]
  },
  {
   "cell_type": "markdown",
   "id": "b0ecc70b",
   "metadata": {},
   "source": [
    "## Author\n",
    "\n",
    "James Schneider"
   ]
  },
  {
   "cell_type": "code",
   "execution_count": null,
   "id": "10e0226c",
   "metadata": {},
   "outputs": [],
   "source": []
  }
 ],
 "metadata": {
  "kernelspec": {
   "display_name": "Python 3 (ipykernel)",
   "language": "python",
   "name": "python3"
  },
  "language_info": {
   "codemirror_mode": {
    "name": "ipython",
    "version": 3
   },
   "file_extension": ".py",
   "mimetype": "text/x-python",
   "name": "python",
   "nbconvert_exporter": "python",
   "pygments_lexer": "ipython3",
   "version": "3.10.11"
  }
 },
 "nbformat": 4,
 "nbformat_minor": 5
}
