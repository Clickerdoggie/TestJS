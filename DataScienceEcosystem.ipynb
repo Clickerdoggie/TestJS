{
 "cells": [
  {
   "cell_type": "markdown",
   "id": "7736ec1e",
   "metadata": {},
   "source": [
    "# Data Science Tools and Ecosystem"
   ]
  },
  {
   "cell_type": "markdown",
   "id": "76c7edea",
   "metadata": {},
   "source": []
  },
  {
   "cell_type": "code",
   "execution_count": 3,
   "id": "8dbccc3b",
   "metadata": {},
   "outputs": [
    {
     "ename": "SyntaxError",
     "evalue": "invalid syntax. Perhaps you forgot a comma? (3229808544.py, line 1)",
     "output_type": "error",
     "traceback": [
      "\u001b[1;36m  Cell \u001b[1;32mIn[3], line 1\u001b[1;36m\u001b[0m\n\u001b[1;33m    print (In this notebook, Data Science Tools and Ecosystem are summarized.)\u001b[0m\n\u001b[1;37m           ^\u001b[0m\n\u001b[1;31mSyntaxError\u001b[0m\u001b[1;31m:\u001b[0m invalid syntax. Perhaps you forgot a comma?\n"
     ]
    }
   ],
   "source": [
    "print (In this notebook, Data Science Tools and Ecosystem are summarized.)"
   ]
  },
  {
   "cell_type": "code",
   "execution_count": 4,
   "id": "cb4265ce",
   "metadata": {},
   "outputs": [
    {
     "ename": "SyntaxError",
     "evalue": "invalid syntax (3088891877.py, line 1)",
     "output_type": "error",
     "traceback": [
      "\u001b[1;36m  Cell \u001b[1;32mIn[4], line 1\u001b[1;36m\u001b[0m\n\u001b[1;33m    print ?\u001b[0m\n\u001b[1;37m          ^\u001b[0m\n\u001b[1;31mSyntaxError\u001b[0m\u001b[1;31m:\u001b[0m invalid syntax\n"
     ]
    }
   ],
   "source": [
    "print ?"
   ]
  },
  {
   "cell_type": "code",
   "execution_count": 5,
   "id": "c47de007",
   "metadata": {},
   "outputs": [
    {
     "name": "stdout",
     "output_type": "stream",
     "text": [
      "In this notebook, Data Science Tools and Ecosystem are summarized.\n"
     ]
    }
   ],
   "source": [
    "print (\"In this notebook, Data Science Tools and Ecosystem are summarized.\")"
   ]
  },
  {
   "cell_type": "code",
   "execution_count": 8,
   "id": "acb36170",
   "metadata": {},
   "outputs": [
    {
     "ename": "SyntaxError",
     "evalue": "invalid syntax (3997660567.py, line 2)",
     "output_type": "error",
     "traceback": [
      "\u001b[1;36m  Cell \u001b[1;32mIn[8], line 2\u001b[1;36m\u001b[0m\n\u001b[1;33m    1. C\u001b[0m\n\u001b[1;37m       ^\u001b[0m\n\u001b[1;31mSyntaxError\u001b[0m\u001b[1;31m:\u001b[0m invalid syntax\n"
     ]
    }
   ],
   "source": [
    "print (\"Some of the popular languages that Data Scientists use are:\")\n",
    "1. C+\n",
    "2. Python \n",
    "3. Julia\n"
   ]
  },
  {
   "cell_type": "code",
   "execution_count": 9,
   "id": "85ed246c",
   "metadata": {},
   "outputs": [
    {
     "name": "stdout",
     "output_type": "stream",
     "text": [
      "Some of the popular languages that Data Scientists use are:\n",
      ". C+\n",
      "Python\n",
      "Julia\n"
     ]
    }
   ],
   "source": [
    "print (\"Some of the popular languages that Data Scientists use are:\")\n",
    "print (\". C+\")\n",
    "print (\"Python\")\n",
    "print (\"Julia\")"
   ]
  },
  {
   "cell_type": "code",
   "execution_count": 10,
   "id": "e12f1b43",
   "metadata": {},
   "outputs": [
    {
     "name": "stdout",
     "output_type": "stream",
     "text": [
      "Some of the popular languages that Data Scientists use are:\n",
      "1. C+\n",
      "2. Python\n",
      "3. Julia\n"
     ]
    }
   ],
   "source": [
    "print (\"Some of the popular languages that Data Scientists use are:\")\n",
    "print (\"1. C+\")\n",
    "print (\"2. Python\")\n",
    "print (\"3. Julia\")"
   ]
  },
  {
   "cell_type": "code",
   "execution_count": 11,
   "id": "a7782531",
   "metadata": {},
   "outputs": [
    {
     "name": "stdout",
     "output_type": "stream",
     "text": [
      "Some of the commonly used libraries used by Data Scientists include:\n",
      "1.Numpy \n",
      "2. Pandas\n",
      "3. Tensor Flow \n"
     ]
    }
   ],
   "source": [
    "print (\"Some of the commonly used libraries used by Data Scientists include:\")\n",
    "print (\"1.Numpy \")\n",
    "print (\"2. Pandas\")\n",
    "print (\"3. Tensor Flow \")\n"
   ]
  },
  {
   "cell_type": "markdown",
   "id": "0fbab038",
   "metadata": {},
   "source": [
    "| Data Science Tools|\n",
    "| ---------------- |\n",
    "| Jupyter NoteBook |\n",
    "| Rstudio          |\n",
    "| Visual Studieo   |\n"
   ]
  },
  {
   "cell_type": "markdown",
   "id": "9fe06a8a",
   "metadata": {},
   "source": []
  },
  {
   "cell_type": "markdown",
   "id": "3a442bf5",
   "metadata": {},
   "source": [
    "print (\"Below are a few examples of evaluating arithmetic expressions in Python\")"
   ]
  },
  {
   "cell_type": "markdown",
   "id": "49604e00",
   "metadata": {},
   "source": [
    "print(\"Below are a few examples of evaluating arithmetic expressions in Python\")"
   ]
  },
  {
   "cell_type": "markdown",
   "id": "014820a9",
   "metadata": {},
   "source": [
    "### (\"Below are a few examples of evaluating arithmetic expressions in Python\")"
   ]
  },
  {
   "cell_type": "code",
   "execution_count": 15,
   "id": "a55f1742",
   "metadata": {},
   "outputs": [
    {
     "data": {
      "text/plain": [
       "17"
      ]
     },
     "execution_count": 15,
     "metadata": {},
     "output_type": "execute_result"
    }
   ],
   "source": [
    "(3*4)+5\n",
    "# This a simple arithmetic expression to mutiply then add integersS"
   ]
  },
  {
   "cell_type": "code",
   "execution_count": 16,
   "id": "62168216",
   "metadata": {},
   "outputs": [
    {
     "data": {
      "text/plain": [
       "3.3333333333333335"
      ]
     },
     "execution_count": 16,
     "metadata": {},
     "output_type": "execute_result"
    }
   ],
   "source": [
    "# This will convert 200 minutes to hours by diving by 60\n",
    "200 / 60 "
   ]
  },
  {
   "cell_type": "code",
   "execution_count": 17,
   "id": "e4bb1a1c",
   "metadata": {},
   "outputs": [
    {
     "ename": "SyntaxError",
     "evalue": "invalid syntax (2151404527.py, line 4)",
     "output_type": "error",
     "traceback": [
      "\u001b[1;36m  Cell \u001b[1;32mIn[17], line 4\u001b[1;36m\u001b[0m\n\u001b[1;33m    hours = minutes / 60 hours\u001b[0m\n\u001b[1;37m                         ^\u001b[0m\n\u001b[1;31mSyntaxError\u001b[0m\u001b[1;31m:\u001b[0m invalid syntax\n"
     ]
    }
   ],
   "source": [
    "# This will convert 200 minutes to hours by diving by 60\n",
    "\n",
    "minutes = 200\n",
    "hours = minutes / 60 \n",
    "hours"
   ]
  },
  {
   "cell_type": "code",
   "execution_count": 18,
   "id": "ba9bd102",
   "metadata": {},
   "outputs": [
    {
     "data": {
      "text/plain": [
       "3.3333333333333335"
      ]
     },
     "execution_count": 18,
     "metadata": {},
     "output_type": "execute_result"
    }
   ],
   "source": [
    "# This will convert 200 minutes to hours by diving by 60\n",
    "\n",
    "minutes = 200\n",
    "hours = minutes / 60 \n",
    "hours"
   ]
  },
  {
   "cell_type": "markdown",
   "id": "1ce4744f",
   "metadata": {},
   "source": [
    "print (\"In this notebook, Data Science Tools and Ecosystem are summarized.\")"
   ]
  },
  {
   "cell_type": "markdown",
   "id": "a6ae2f93",
   "metadata": {},
   "source": [
    "print ** (\"Objectives\")"
   ]
  },
  {
   "cell_type": "markdown",
   "id": "3ff9daa9",
   "metadata": {},
   "source": [
    "print  (\"**Objectives\")\n",
    "* List popular languages for Data Science\n",
    "* "
   ]
  },
  {
   "cell_type": "markdown",
   "id": "0a108a40",
   "metadata": {},
   "source": [
    "\n",
    "print  (\"**Objectives\")\n",
    "* List popular languages for Data Science\n",
    "* "
   ]
  },
  {
   "cell_type": "markdown",
   "id": "4d3912e0",
   "metadata": {},
   "source": [
    "print  (\"**Objectives\")\n",
    "* List popular languages for Data Science\n",
    "* "
   ]
  },
  {
   "cell_type": "markdown",
   "id": "c5054ef5",
   "metadata": {},
   "source": [
    "print  (\"**Objectives**\")\n",
    "* List popular languages for Data Science\n",
    "* evaluating arithmetic expressions in Python\n",
    "* List development environment"
   ]
  },
  {
   "cell_type": "code",
   "execution_count": 20,
   "id": "6db13b91",
   "metadata": {},
   "outputs": [
    {
     "ename": "SyntaxError",
     "evalue": "unterminated string literal (detected at line 1) (4050846285.py, line 1)",
     "output_type": "error",
     "traceback": [
      "\u001b[1;36m  Cell \u001b[1;32mIn[20], line 1\u001b[1;36m\u001b[0m\n\u001b[1;33m    \"**Objectives**\u001b[0m\n\u001b[1;37m    ^\u001b[0m\n\u001b[1;31mSyntaxError\u001b[0m\u001b[1;31m:\u001b[0m unterminated string literal (detected at line 1)\n"
     ]
    }
   ],
   "source": [
    "\"**Objectives**\n",
    "* List popular languages for Data Science\n",
    "* evaluating arithmetic expressions in Python\n",
    "* List development environment"
   ]
  },
  {
   "cell_type": "code",
   "execution_count": 21,
   "id": "4ff0c864",
   "metadata": {},
   "outputs": [
    {
     "ename": "SyntaxError",
     "evalue": "Missing parentheses in call to 'print'. Did you mean print(...)? (865851853.py, line 1)",
     "output_type": "error",
     "traceback": [
      "\u001b[1;36m  Cell \u001b[1;32mIn[21], line 1\u001b[1;36m\u001b[0m\n\u001b[1;33m    print  \"**Objectives**\"\u001b[0m\n\u001b[1;37m    ^\u001b[0m\n\u001b[1;31mSyntaxError\u001b[0m\u001b[1;31m:\u001b[0m Missing parentheses in call to 'print'. Did you mean print(...)?\n"
     ]
    }
   ],
   "source": [
    "print  \"**Objectives**\"\n",
    "* List popular languages for Data Science\n",
    "* evaluating arithmetic expressions in Python\n",
    "* List development environment"
   ]
  },
  {
   "cell_type": "code",
   "execution_count": 22,
   "id": "7b7d5fc2",
   "metadata": {},
   "outputs": [
    {
     "ename": "SyntaxError",
     "evalue": "invalid syntax (130183193.py, line 2)",
     "output_type": "error",
     "traceback": [
      "\u001b[1;36m  Cell \u001b[1;32mIn[22], line 2\u001b[1;36m\u001b[0m\n\u001b[1;33m    * List popular languages for Data Science\u001b[0m\n\u001b[1;37m           ^\u001b[0m\n\u001b[1;31mSyntaxError\u001b[0m\u001b[1;31m:\u001b[0m invalid syntax\n"
     ]
    }
   ],
   "source": [
    "print  (\"**Objectives**\")\n",
    "* List popular languages for Data Science\n",
    "* evaluating arithmetic expressions in Python\n",
    "* List development environment"
   ]
  },
  {
   "cell_type": "code",
   "execution_count": 23,
   "id": "ace27c72",
   "metadata": {},
   "outputs": [
    {
     "name": "stdout",
     "output_type": "stream",
     "text": [
      "**Objectives**\n",
      "L i s t   p o p u l a r   l a n g u a g e s   f o r   D a t a   S c i e n c e\n",
      "* Evaluating arithmetic expressions in Python\n",
      "* List development environment\n"
     ]
    }
   ],
   "source": [
    "print  (\"**Objectives**\")\n",
    "print(* \"List popular languages for Data Science\")\n",
    "print(\"* Evaluating arithmetic expressions in Python\")\n",
    "print(\"* List development environment\")"
   ]
  },
  {
   "cell_type": "code",
   "execution_count": 24,
   "id": "8d8f356b",
   "metadata": {},
   "outputs": [
    {
     "name": "stdout",
     "output_type": "stream",
     "text": [
      "**Objectives**\n",
      "* List popular languages for Data Science\n",
      "* Evaluating arithmetic expressions in Python\n",
      "* List development environment\n"
     ]
    }
   ],
   "source": [
    "print(\"**Objectives**\")\n",
    "print(\"* List popular languages for Data Science\")\n",
    "print(\"* Evaluating arithmetic expressions in Python\")\n",
    "print(\"* List development environment\")"
   ]
  },
  {
   "cell_type": "markdown",
   "id": "9f005b7b",
   "metadata": {},
   "source": [
    "print(\"**Objectives**\")\n",
    "print(\"* List popular languages for Data Science\")\n",
    "print(\"* Evaluating arithmetic expressions in Python\")\n",
    "print(\"* List development environment\")"
   ]
  },
  {
   "cell_type": "markdown",
   "id": "9c546229",
   "metadata": {},
   "source": [
    "print(\"**Objectives**\")\n",
    "print(\"* List popular languages for Data Science\")\n",
    "print(\"* Evaluating arithmetic expressions in Python\")\n",
    "print(\"* List development environment\")"
   ]
  },
  {
   "cell_type": "markdown",
   "id": "031926b4",
   "metadata": {},
   "source": [
    "print(\"**Objectives**\")\n",
    "print(\"* List popular languages for Data Science\")\n",
    "print(\"* Evaluating arithmetic expressions in Python\")\n",
    "print(\"* List development environment\")"
   ]
  },
  {
   "cell_type": "markdown",
   "id": "f8ce6c9a",
   "metadata": {},
   "source": []
  },
  {
   "cell_type": "markdown",
   "id": "95c276a8",
   "metadata": {},
   "source": [
    "print \n"
   ]
  },
  {
   "cell_type": "markdown",
   "id": "3dbdcfc1",
   "metadata": {},
   "source": [
    "\n"
   ]
  },
  {
   "cell_type": "markdown",
   "id": "22cf0919",
   "metadata": {},
   "source": [
    "\n"
   ]
  },
  {
   "cell_type": "markdown",
   "id": "0443f8ce",
   "metadata": {},
   "source": []
  },
  {
   "cell_type": "code",
   "execution_count": null,
   "id": "796cf787",
   "metadata": {},
   "outputs": [],
   "source": []
  },
  {
   "cell_type": "markdown",
   "id": "5bb8bcfa",
   "metadata": {},
   "source": []
  },
  {
   "cell_type": "code",
   "execution_count": null,
   "id": "81901fc6",
   "metadata": {},
   "outputs": [],
   "source": []
  },
  {
   "cell_type": "code",
   "execution_count": null,
   "id": "726e7090",
   "metadata": {},
   "outputs": [],
   "source": []
  },
  {
   "cell_type": "markdown",
   "id": "2e422e7a",
   "metadata": {},
   "source": [
    "print (\"itn\")"
   ]
  },
  {
   "cell_type": "code",
   "execution_count": null,
   "id": "e508ab93",
   "metadata": {},
   "outputs": [],
   "source": []
  },
  {
   "cell_type": "markdown",
   "id": "6e4655d3",
   "metadata": {},
   "source": [
    "print (\"**Objectives:**\")\n",
    "print (\"*  List popular languages for Data Science\")\n",
    "print (\"* Evaluating arithmetic expressions in Python\")\n",
    "print (\"* List development environment\")"
   ]
  },
  {
   "cell_type": "code",
   "execution_count": 1,
   "id": "edd2d1e9",
   "metadata": {},
   "outputs": [
    {
     "name": "stdout",
     "output_type": "stream",
     "text": [
      "**Objectives:**\n",
      "*  List popular languages for Data Science\n",
      "* Evaluating arithmetic expressions in Python\n",
      "* List development environment\n"
     ]
    }
   ],
   "source": [
    "print (\"**Objectives:**\")\n",
    "print (\"*  List popular languages for Data Science\")\n",
    "print (\"* Evaluating arithmetic expressions in Python\")\n",
    "print (\"* List development environment\")"
   ]
  },
  {
   "cell_type": "markdown",
   "id": "070361e5",
   "metadata": {},
   "source": [
    "## James Schnider "
   ]
  },
  {
   "cell_type": "markdown",
   "id": "d330fae0",
   "metadata": {},
   "source": [
    "print (**Objectives:**)"
   ]
  },
  {
   "cell_type": "markdown",
   "id": "da70a320",
   "metadata": {},
   "source": [
    "**Objectives:**\n",
    "* List popular languages for Data Science\n",
    "* Evaluating arithmetic expressions in Python\n",
    "* List development environment\n"
   ]
  },
  {
   "cell_type": "code",
   "execution_count": null,
   "id": "850911b1",
   "metadata": {},
   "outputs": [],
   "source": []
  }
 ],
 "metadata": {
  "kernelspec": {
   "display_name": "Python 3 (ipykernel)",
   "language": "python",
   "name": "python3"
  },
  "language_info": {
   "codemirror_mode": {
    "name": "ipython",
    "version": 3
   },
   "file_extension": ".py",
   "mimetype": "text/x-python",
   "name": "python",
   "nbconvert_exporter": "python",
   "pygments_lexer": "ipython3",
   "version": "3.10.9"
  }
 },
 "nbformat": 4,
 "nbformat_minor": 5
}
